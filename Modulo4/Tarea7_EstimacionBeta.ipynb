{
 "cells": [
  {
   "cell_type": "markdown",
   "metadata": {},
   "source": [
    "# Tarea 7. Estimación del riesgo sistemático ($\\beta$).\n",
    "\n",
    "<img style=\"float: right; margin: 0px 0px 15px 15px;\" src=\"https://upload.wikimedia.org/wikipedia/commons/thumb/6/6e/Separation_theorem_of_MPT.svg/2000px-Separation_theorem_of_MPT.svg.png\" width=\"400px\" height=\"400px\" />\n",
    "\n",
    "**Resumen.**\n",
    "> En esta tarea aplicarás la técnica aprendida en clase para la estimación del coeficiente de riesgo sistemático $\\beta$, el cual es primordial en el modelo de valoración de activos en equilibrio CAPM.\n",
    "\n",
    "**Criterio de revisión.**\n",
    "> Se te calificará de acuerdo a los resultados finales que reportes, basados en tu análisis.\n",
    "\n",
    "**Antes de comenzar.**\n",
    "> Por favor, copiar y pegar este archivo en otra ubicación. Antes de comenzar, nombrarlo *Tarea7_ApellidoNombre*, sin acentos y sin espacios; por ejemplo, en mi caso el archivo se llamaría *Tarea7_JimenezEsteban*. Resolver todos los puntos en dicho archivo y subir en este espacio."
   ]
  },
  {
   "cell_type": "code",
   "execution_count": 1,
   "metadata": {},
   "outputs": [
    {
     "name": "stderr",
     "output_type": "stream",
     "text": [
      "C:\\Users\\aleja\\anaconda3\\lib\\site-packages\\pandas_datareader\\compat\\__init__.py:7: FutureWarning: pandas.util.testing is deprecated. Use the functions in the public API at pandas.testing instead.\n",
      "  from pandas.util.testing import assert_frame_equal\n"
     ]
    }
   ],
   "source": [
    "import pandas as pd\n",
    "import pandas_datareader.data as web\n",
    "import numpy as np\n",
    "import matplotlib.pyplot as plt\n",
    "%matplotlib inline\n",
    "import scipy.optimize as opt"
   ]
  },
  {
   "cell_type": "markdown",
   "metadata": {},
   "source": [
    "## 1. Selección de activos (10 puntos)\n",
    "\n",
    "Seleccionar cinco (5) activos de su preferencia y enunciarlos en una celda en formato Markdown."
   ]
  },
  {
   "cell_type": "markdown",
   "metadata": {},
   "source": [
    "#### Las empresas seleccionadas son las siguientes:\n",
    "\n",
    "1. Tesla Inc - TSLA\n",
    "2. Ford Motor Company - F\n",
    "3. Netflix Inc - NFLX\n",
    "4. Facebok Inc - FB\n",
    "5. The Procter & Gamble Company - PG\n"
   ]
  },
  {
   "cell_type": "markdown",
   "metadata": {},
   "source": [
    "## 2. Descarga de datos (10 puntos)\n",
    "\n",
    "Descargar los precios mensuales ajustados en el cierre para el índice S&P 500 (^GSPC) y para los activos seleccionados en los últimos cinco años.\n",
    "\n",
    "1. Graficar los precios (5 puntos).\n",
    "2. Graficar los rendimientos (5 puntos)."
   ]
  },
  {
   "cell_type": "code",
   "execution_count": 2,
   "metadata": {},
   "outputs": [],
   "source": [
    "# Función para descargar precios de cierre ajustados:\n",
    "def get_adj_closes(tickers, start_date=None, end_date=None, freq='m'):\n",
    "    # Fecha inicio por defecto (start_date='2010-01-01') y fecha fin por defecto (end_date=today)\n",
    "    # Descargamos DataFrame con todos los datos\n",
    "    closes = web.YahooDailyReader(symbols=tickers, start=start_date, end=end_date, interval=freq).read()['Adj Close']\n",
    "    # Se ordenan los índices de manera ascendente\n",
    "    closes.sort_index(inplace=True)\n",
    "    return closes"
   ]
  },
  {
   "cell_type": "code",
   "execution_count": 3,
   "metadata": {},
   "outputs": [],
   "source": [
    "# Importar datos de AAPL, MSFT, y ^GSPC\n",
    "names = ['TSLA', 'F', 'NFLX', 'FB', 'PG','^GSPC']\n",
    "start = '2015-07-01'\n",
    "end = '2020-07-01'"
   ]
  },
  {
   "cell_type": "code",
   "execution_count": null,
   "metadata": {},
   "outputs": [],
   "source": [
    "# Obtener precios mensuales\n",
    "closes = get_adj_closes(tickers=names, start_date=start, end_date=end)\n",
    "closes.head(10)"
   ]
  },
  {
   "cell_type": "code",
   "execution_count": null,
   "metadata": {},
   "outputs": [],
   "source": [
    "# Obtener rendimientos mensuales\n",
    "ret = closes.pct_change().dropna()\n",
    "ret.head(10)"
   ]
  },
  {
   "cell_type": "code",
   "execution_count": null,
   "metadata": {},
   "outputs": [],
   "source": [
    "ret_m = ret.mean()\n",
    "ret_m"
   ]
  },
  {
   "cell_type": "code",
   "execution_count": null,
   "metadata": {},
   "outputs": [],
   "source": [
    "closes.plot()"
   ]
  },
  {
   "cell_type": "code",
   "execution_count": null,
   "metadata": {},
   "outputs": [],
   "source": [
    "ret.plot()"
   ]
  },
  {
   "cell_type": "markdown",
   "metadata": {},
   "source": [
    "## 3. Calculando los coeficientes $\\beta$ (50 puntos)\n",
    "\n",
    "Usando los datos de rendimientos mensuales calculados en el punto anterior:\n",
    "\n",
    "1. Estime el valor del coeficiente de riesgo sistemático $\\beta$ para cada uno de los activos seleccionados, con el método visto en clase (5 puntos por cada activo).\n",
    "2. Compare su estimación de $\\beta$ con el valor reportado en Yahoo! Finance mediante el error relativo: \n",
    "$$e_{relativo}=\\frac{\\beta_{estimado}-\\beta_{Yahoo!}}{\\beta_{Yahoo!}}.$$\n",
    "Concluya de acuerdo al valor del error relativo obtenido (5 puntos por cada activo)."
   ]
  },
  {
   "cell_type": "code",
   "execution_count": null,
   "metadata": {},
   "outputs": [],
   "source": [
    "# Obtener matriz de covarianza\n",
    "cov = ret.cov()\n",
    "cov"
   ]
  },
  {
   "cell_type": "code",
   "execution_count": null,
   "metadata": {},
   "outputs": [],
   "source": [
    "# Beta de Tesla\n",
    "beta_T = cov.loc['TSLA', '^GSPC'] / cov.loc['^GSPC', '^GSPC']\n",
    "beta_T"
   ]
  },
  {
   "cell_type": "code",
   "execution_count": null,
   "metadata": {},
   "outputs": [],
   "source": [
    "# Beta de Ford\n",
    "beta_F = cov.loc['F', '^GSPC'] / cov.loc['^GSPC', '^GSPC']\n",
    "beta_F"
   ]
  },
  {
   "cell_type": "code",
   "execution_count": null,
   "metadata": {},
   "outputs": [],
   "source": [
    "# Beta de Netflix\n",
    "beta_N = cov.loc['NFLX', '^GSPC'] / cov.loc['^GSPC', '^GSPC']\n",
    "beta_N"
   ]
  },
  {
   "cell_type": "code",
   "execution_count": null,
   "metadata": {},
   "outputs": [],
   "source": [
    "# Beta de Facebook\n",
    "beta_FB = cov.loc['FB', '^GSPC'] / cov.loc['^GSPC', '^GSPC']\n",
    "beta_FB"
   ]
  },
  {
   "cell_type": "code",
   "execution_count": null,
   "metadata": {},
   "outputs": [],
   "source": [
    "# Beta de P&G\n",
    "beta_PG = cov.loc['PG', '^GSPC'] / cov.loc['^GSPC', '^GSPC']\n",
    "beta_PG"
   ]
  },
  {
   "cell_type": "code",
   "execution_count": null,
   "metadata": {},
   "outputs": [],
   "source": [
    "#Error relativo de Tesla\n",
    "e_T = abs((1.2176 - 1.17) / 1.17)\n",
    "e_T"
   ]
  },
  {
   "cell_type": "code",
   "execution_count": null,
   "metadata": {},
   "outputs": [],
   "source": [
    "#Error relativo de Ford\n",
    "e_F = abs((1.2757 - 1.30) / 1.30)\n",
    "e_F"
   ]
  },
  {
   "cell_type": "code",
   "execution_count": null,
   "metadata": {},
   "outputs": [],
   "source": [
    "#Error relativo de Netflix\n",
    "e_N = abs((0.9443 - 0.96) / 0.96)\n",
    "e_N"
   ]
  },
  {
   "cell_type": "code",
   "execution_count": null,
   "metadata": {},
   "outputs": [],
   "source": [
    "#Error relativo de Facebook\n",
    "e_FB = abs((1.1894 - 1.20) / 1.20)\n",
    "e_FB"
   ]
  },
  {
   "cell_type": "code",
   "execution_count": null,
   "metadata": {},
   "outputs": [],
   "source": [
    "#Error relativo de P&G\n",
    "e_PG = abs((0.3952 - 0.40) / 0.40)\n",
    "e_PG"
   ]
  },
  {
   "cell_type": "markdown",
   "metadata": {},
   "source": [
    "## 4. Gráfico y conclusiones (30 puntos)\n",
    "\n",
    "1. Grafique cada uno de los activos en el espacio de $E[r]$ (eje $y$) vs. $\\beta$ (eje $x$) (10 puntos).\n",
    "2. Ajuste una línea recta a los puntos obtenidos. Dar la ecuación (10 puntos).\n",
    "3. De la ecuación obtenida, identifique el valor de la tasa libre de riesgo $r_f$, y el valor del rendimiento esperado del portafolio de mercado $E[r_M]$. Compare este último con el rendimiento esperado del índice S&P500 (10 puntos)."
   ]
  },
  {
   "cell_type": "code",
   "execution_count": null,
   "metadata": {},
   "outputs": [],
   "source": []
  },
  {
   "cell_type": "code",
   "execution_count": null,
   "metadata": {},
   "outputs": [],
   "source": []
  },
  {
   "cell_type": "code",
   "execution_count": null,
   "metadata": {},
   "outputs": [],
   "source": []
  },
  {
   "cell_type": "code",
   "execution_count": null,
   "metadata": {},
   "outputs": [],
   "source": []
  },
  {
   "cell_type": "code",
   "execution_count": null,
   "metadata": {},
   "outputs": [],
   "source": []
  },
  {
   "cell_type": "code",
   "execution_count": null,
   "metadata": {},
   "outputs": [],
   "source": []
  },
  {
   "cell_type": "markdown",
   "metadata": {},
   "source": [
    "<script>\n",
    "  $(document).ready(function(){\n",
    "    $('div.prompt').hide();\n",
    "    $('div.back-to-top').hide();\n",
    "    $('nav#menubar').hide();\n",
    "    $('.breadcrumb').hide();\n",
    "    $('.hidden-print').hide();\n",
    "  });\n",
    "</script>\n",
    "\n",
    "<footer id=\"attribution\" style=\"float:right; color:#808080; background:#fff;\">\n",
    "Created with Jupyter by Esteban Jiménez Rodríguez.\n",
    "</footer>"
   ]
  }
 ],
 "metadata": {
  "kernelspec": {
   "display_name": "Python 3",
   "language": "python",
   "name": "python3"
  },
  "language_info": {
   "codemirror_mode": {
    "name": "ipython",
    "version": 3
   },
   "file_extension": ".py",
   "mimetype": "text/x-python",
   "name": "python",
   "nbconvert_exporter": "python",
   "pygments_lexer": "ipython3",
   "version": "3.7.6"
  }
 },
 "nbformat": 4,
 "nbformat_minor": 2
}
